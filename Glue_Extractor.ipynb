{
 "cells": [
  {
   "cell_type": "code",
   "execution_count": 2,
   "metadata": {},
   "outputs": [],
   "source": [
    "import cv2\n",
    "import numpy as np\n",
    "import os\n",
    "\n",
    "# Lower and upper HSV values\n",
    "lower_hsv = np.array([55, 52, 103], np.uint8)\n",
    "upper_hsv = np.array([179, 255, 255], np.uint8)\n",
    "\n",
    "# Input and output folders\n",
    "input_folder = r'E:\\comp_vision\\YOLOLO\\Circle_Cropper\\output'\n",
    "output_folder = r\"E:\\comp_vision\\YOLOLO\\Glue Extract\\output\"\n",
    "\n",
    "# Create the output folder if it doesn't exist\n",
    "if not os.path.exists(output_folder):\n",
    "    os.makedirs(output_folder)\n",
    "\n",
    "# Iterate through each file in the input folder\n",
    "for filename in os.listdir(input_folder):\n",
    "    if filename.endswith(\".png\") or filename.endswith(\".jpg\"):\n",
    "        # Read source image\n",
    "        img_path = os.path.join(input_folder, filename)\n",
    "        img = cv2.imread(img_path)\n",
    "\n",
    "        # Convert source image to HSV color mode\n",
    "        hsv = cv2.cvtColor(img, cv2.COLOR_BGR2HSV)\n",
    "\n",
    "        # Making mask for HSV range\n",
    "        mask = cv2.inRange(hsv, lower_hsv, upper_hsv)\n",
    "\n",
    "        # Masking: HSV value selected color becomes black\n",
    "        res = cv2.bitwise_and(img, img, mask=mask)\n",
    "\n",
    "        # Save the resulting image with derived HSV values\n",
    "        output_path = os.path.join(output_folder, f\"output_{filename}\")\n",
    "        cv2.imwrite(output_path, res)\n",
    "\n",
    "# Destroys all windows\n",
    "cv2.destroyAllWindows()\n"
   ]
  }
 ],
 "metadata": {
  "kernelspec": {
   "display_name": "Python 3",
   "language": "python",
   "name": "python3"
  },
  "language_info": {
   "codemirror_mode": {
    "name": "ipython",
    "version": 3
   },
   "file_extension": ".py",
   "mimetype": "text/x-python",
   "name": "python",
   "nbconvert_exporter": "python",
   "pygments_lexer": "ipython3",
   "version": "3.10.9"
  }
 },
 "nbformat": 4,
 "nbformat_minor": 2
}
